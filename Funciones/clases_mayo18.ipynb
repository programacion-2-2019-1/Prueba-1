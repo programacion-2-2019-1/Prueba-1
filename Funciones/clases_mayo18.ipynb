{
 "cells": [
  {
   "cell_type": "code",
   "execution_count": 1,
   "metadata": {},
   "outputs": [
    {
     "name": "stdout",
     "output_type": "stream",
     "text": [
      "clases P-II\n"
     ]
    }
   ],
   "source": [
    "import matplotlib\n",
    "import matplotlib.pyplot as plt\n",
    "import numpy as np\n",
    "from clase2 import *\n",
    "print('clases P-II')"
   ]
  },
  {
   "cell_type": "markdown",
   "metadata": {},
   "source": [
    "Se crea figura1 como una **instancia** (objeto) de la clase Figura. "
   ]
  },
  {
   "cell_type": "code",
   "execution_count": 2,
   "metadata": {},
   "outputs": [
    {
     "name": "stdout",
     "output_type": "stream",
     "text": [
      "Clase creada\n"
     ]
    }
   ],
   "source": [
    "figura1 = Figura()\n",
    "figura2 = Figura()\n",
    "print('Clase creada')"
   ]
  },
  {
   "cell_type": "code",
   "execution_count": 3,
   "metadata": {},
   "outputs": [],
   "source": [
    "#figura1.x = [-1,1,0,-1]\n",
    "#figura1.y = [0,0,1.5,0]\n",
    "tmp = figura1.x\n",
    "#[x1,y1] = figura1.rotar(3.1415/2)\n",
    "#[x2,y2] = figura2.rotar(-3.1415/4)\n",
    "figura1.rotar(3.1415/2)\n",
    "figura2.rotar(-3.1415/4)\n",
    "#print(tmp,'\\nx1:',x1)\n",
    "#print('x2:',x2)"
   ]
  },
  {
   "cell_type": "code",
   "execution_count": 4,
   "metadata": {},
   "outputs": [],
   "source": [
    "#print(figura1.rotar([-1,1,0,-1],[-1,1,0,-1],10))"
   ]
  },
  {
   "cell_type": "code",
   "execution_count": 5,
   "metadata": {},
   "outputs": [
    {
     "name": "stdout",
     "output_type": "stream",
     "text": [
      "Fin ok\n"
     ]
    },
    {
     "data": {
      "image/png": "[encoded data removed]",
      "text/plain": [
       "<matplotlib.figure.Figure at 0x22cd6024278>"
      ]
     },
     "metadata": {},
     "output_type": "display_data"
    }
   ],
   "source": [
    "#print(figura1.rotar(figura1.x,figura1.y,10))\n",
    "#print(figura1.rotar(10))\n",
    "fig, ax=plt.subplots()\n",
    "ax.plot(figura1.x,figura1.y,'ko-')\n",
    "ax.plot(figura2.x,figura2.y,'ro-')\n",
    "figura1.rotar(3.1415/2)\n",
    "figura1.reset()\n",
    "ax.plot(figura1.x,figura1.y,'bo-')\n",
    "#ax.plot(x1,y1,'ro-')\n",
    "#ax.plot(x2,y2,'go-')\n",
    "ax.grid(); ax.axis([-5,5,-3,3])\n",
    "plt.show\n",
    "print('Fin ok')"
   ]
  }
 ],
 "metadata": {
  "kernelspec": {
   "display_name": "Python 3",
   "language": "python",
   "name": "python3"
  },
  "language_info": {
   "codemirror_mode": {
    "name": "ipython",
    "version": 3
   },
   "file_extension": ".py",
   "mimetype": "text/x-python",
   "name": "python",
   "nbconvert_exporter": "python",
   "pygments_lexer": "ipython3",
   "version": "3.6.4"
  }
 },
 "nbformat": 4,
 "nbformat_minor": 2
}

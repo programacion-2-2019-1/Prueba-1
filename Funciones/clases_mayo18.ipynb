{
 "cells": [
  {
   "cell_type": "code",
   "execution_count": 1,
   "metadata": {},
   "outputs": [
    {
     "name": "stdout",
     "output_type": "stream",
     "text": [
      "clases P-II\n"
     ]
    }
   ],
   "source": [
    "#from clases_prog2 import *\n",
    "from clase2 import *\n",
    "print('clases P-II')"
   ]
  },
  {
   "cell_type": "code",
   "execution_count": 2,
   "metadata": {},
   "outputs": [
    {
     "name": "stdout",
     "output_type": "stream",
     "text": [
      "Clase creada\n"
     ]
    }
   ],
   "source": [
    "figura1 = Figura()\n",
    "print('Clase creada')"
   ]
  },
  {
   "cell_type": "code",
   "execution_count": 3,
   "metadata": {},
   "outputs": [
    {
     "name": "stdout",
     "output_type": "stream",
     "text": [
      "[-1, 1, 0, -1]\n"
     ]
    }
   ],
   "source": [
    "#figura1.x = [-1,1,0,-1]\n",
    "#figura1.y = [0,0,1.5,0]\n",
    "print(figura1.x)"
   ]
  },
  {
   "cell_type": "code",
   "execution_count": 4,
   "metadata": {},
   "outputs": [],
   "source": [
    "#print(figura1.rotar([-1,1,0,-1],[-1,1,0,-1],10))"
   ]
  },
  {
   "cell_type": "code",
   "execution_count": 5,
   "metadata": {},
   "outputs": [
    {
     "name": "stdout",
     "output_type": "stream",
     "text": [
      "([0.8390715290764524, -0.8390715290764524, 0.8160316663340547, 0.8390715290764524], [0.5440211108893698, -0.5440211108893698, -1.2586072936146786, 0.5440211108893698])\n",
      "Fin ok\n"
     ]
    }
   ],
   "source": [
    "#print(figura1.rotar(figura1.x,figura1.y,10))\n",
    "print(figura1.rotar(10))\n",
    "print('Fin ok')"
   ]
  }
 ],
 "metadata": {
  "kernelspec": {
   "display_name": "Python 3",
   "language": "python",
   "name": "python3"
  },
  "language_info": {
   "codemirror_mode": {
    "name": "ipython",
    "version": 3
   },
   "file_extension": ".py",
   "mimetype": "text/x-python",
   "name": "python",
   "nbconvert_exporter": "python",
   "pygments_lexer": "ipython3",
   "version": "3.6.4"
  }
 },
 "nbformat": 4,
 "nbformat_minor": 2
}

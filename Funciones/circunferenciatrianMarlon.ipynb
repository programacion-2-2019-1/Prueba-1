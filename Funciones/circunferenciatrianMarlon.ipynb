{
 "cells": [
  {
   "cell_type": "code",
   "execution_count": 43,
   "metadata": {},
   "outputs": [],
   "source": [
    "import matplotlib\n",
    "import matplotlib.pyplot as plt\n",
    "import numpy as np\n"
   ]
  },
  {
   "cell_type": "markdown",
   "metadata": {},
   "source": [
    "Función rotar()"
   ]
  },
  {
   "cell_type": "code",
   "execution_count": 44,
   "metadata": {},
   "outputs": [],
   "source": [
    "def rotar(x,y,angulo):\n",
    "    xr = [];   yr = []\n",
    "    for i in range(len(x)):\n",
    "        if x[i] == 0:\n",
    "            if y[i] >0:\n",
    "                ang = np.pi/2\n",
    "            else:\n",
    "                ang = -np.pi/2\n",
    "            r   = y[i]\n",
    "        else:\n",
    "            ang = np.math.atan(y[i]/x[i])\n",
    "            r   = x[i]/np.math.cos(ang)\n",
    "        xt  = r*np.math.cos(ang+angulo)\n",
    "        yt  = r*np.math.sin(ang+angulo)\n",
    "        \n",
    "        xr.append(xt);   yr.append(yt);\n",
    "    return xr,yr"
   ]
  },
  {
   "cell_type": "code",
   "execution_count": 45,
   "metadata": {},
   "outputs": [
    {
     "name": "stdout",
     "output_type": "stream",
     "text": [
      "[-1, 1, 0, -1] [0, 0, 1.5, 0]\n",
      "[-6.123233995736766e-17, 6.123233995736766e-17, -1.5, -6.123233995736766e-17] [-1.0, 1.0, 1.8369701987210297e-16, -1.0]\n",
      "Ingrese el número de puntos que quiere: 4\n"
     ]
    },
    {
     "data": {
      "text/plain": [
       "<function matplotlib.pyplot.show>"
      ]
     },
     "execution_count": 45,
     "metadata": {},
     "output_type": "execute_result"
    },
    {
     "data": {
      "image/png": "[encoded data removed]",
      "text/plain": [
       "<matplotlib.figure.Figure at 0x2ae71fa2400>"
      ]
     },
     "metadata": {},
     "output_type": "display_data"
    }
   ],
   "source": [
    "dx=0.5\n",
    "n=3\n",
    "x=[-1,1,0,-1]; y=[0,0,1.5,0]\n",
    "angulo = np.pi/2\n",
    "[xr,yr] = rotar(x,y,angulo)   # función para rotar la figura, en el plano x-y \n",
    "t=np.arange(0,6.3879,np.pi/30)\n",
    "print(x,y)\n",
    "print(xr,yr)\n",
    "x1=7*np.sin(t); y1=7*np.cos(t)\n",
    "limite=5\n",
    "r=7\n",
    "gr='F'\n",
    "\n",
    "fig, ax=plt.subplots()\n",
    "ax.plot(xr,yr,'o-')\n",
    "#ax.plot(x1,y1)\n",
    "ax.grid(); ax.axis([-limite-3,limite+3,-limite-3,limite+3])\n",
    "p1=int(input(\"Ingrese el número de puntos que quiere: \"))\n",
    "ep=int((int(len(t))/p1))\n",
    "t = np.arange(0,361)\n",
    "x1=r*np.sin(t*np.pi/180); y1=r*np.cos(t*np.pi/180)\n",
    "ax.plot(x1,y1,'r-')\n",
    "dt=360/p1\n",
    "x2=x1[0::int(dt)];        y2=y1[0::int(dt)]\n",
    "ax.plot(x2,y2,'bo')\n",
    "for i in range(len(x2)):\n",
    "    angulo = i*dt\n",
    "    [x_r,y_r] = rotar(x,y,angulo*np.pi/180)\n",
    "    ax.plot(x_r+x2[i],y_r+y2[i],'o-')\n",
    "    ax.text(x2[i],y2[i]-.5,'i='+str(i))\n",
    "    \n",
    "#s1=np.arange(0,len(t),ep)\n",
    "#for i in s1:\n",
    "#    ax.plot(x1[i],y1[i],'ro-')\n",
    "#    ax.plot([x1[i]-1,x1[i]+1,x1[i],x1[i]-1],[y1[i],y1[i],y1[i]+1.5,y1[i]],'bo-')\n",
    "\n",
    "plt.show"
   ]
  },
  {
   "cell_type": "code",
   "execution_count": null,
   "metadata": {},
   "outputs": [],
   "source": []
  },
  {
   "cell_type": "markdown",
   "metadata": {},
   "source": []
  }
 ],
 "metadata": {
  "kernelspec": {
   "display_name": "Python 3",
   "language": "python",
   "name": "python3"
  },
  "language_info": {
   "codemirror_mode": {
    "name": "ipython",
    "version": 3
   },
   "file_extension": ".py",
   "mimetype": "text/x-python",
   "name": "python",
   "nbconvert_exporter": "python",
   "pygments_lexer": "ipython3",
   "version": "3.6.4"
  }
 },
 "nbformat": 4,
 "nbformat_minor": 2
}

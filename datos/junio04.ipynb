{
 "cells": [
  {
   "cell_type": "markdown",
   "metadata": {},
   "source": [
    "Generando datos.\n",
    "Generar una lista (4 columnas) de números aleatorios enteros [1-10]\n",
    "una columna adicional con los valores máximos\n",
    "una columna con el promedio de datos de las 4 columnas\n",
    "generar un archivo csv con esta información"
   ]
  },
  {
   "cell_type": "code",
   "execution_count": 4,
   "metadata": {},
   "outputs": [
    {
     "name": "stdout",
     "output_type": "stream",
     "text": [
      "Datos\n"
     ]
    }
   ],
   "source": [
    "import matplotlib\n",
    "import matplotlib.pyplot as plt\n",
    "import numpy as np\n",
    "import pandas as pd\n",
    "print('Datos')"
   ]
  },
  {
   "cell_type": "code",
   "execution_count": 21,
   "metadata": {},
   "outputs": [
    {
     "name": "stdout",
     "output_type": "stream",
     "text": [
      "[3, 2, 5]\n",
      "   x  y  z\n",
      "0  3 -1  3\n",
      "1  2  0  3\n",
      "2  5  3  3\n",
      "\n",
      "Tabla datos1:\n",
      "    x  y  z col4  col5\n",
      "0  3 -1  3    x     2\n",
      "1  2  0  3    x     2\n",
      "2  5  3  3    x     8\n"
     ]
    },
    {
     "data": {
      "image/png": "[encoded data removed]",
      "text/plain": [
       "<matplotlib.figure.Figure at 0x210a7a375f8>"
      ]
     },
     "metadata": {},
     "output_type": "display_data"
    }
   ],
   "source": [
    "r = 10\n",
    "n = 20\n",
    "\n",
    "dic1   = {'x': [3,2,5],'y':[-1,0,3],'z':3}\n",
    "datos1 = pd.DataFrame(dic1)\n",
    "\n",
    "#datos1.to_csv('datos.csv')\n",
    "print(dic1[\"x\"])\n",
    "print(datos1)\n",
    "datos1['col4']=['x','x','x']\n",
    "datos1['col5']=datos1['x']+datos1['y']\n",
    "print('\\nTabla datos1:\\n',datos1)\n",
    "fig, ax=plt.subplots()\n",
    "#ax.bar(['a','b','c'],datos1['x'])\n",
    "index = np.arange(3)\n",
    "rects1 = plt.bar(index, datos1['x'], .4,alpha=.3,color='b',label='col x')\n",
    "rects2 = plt.bar(index+.2, datos1['col5'], .4,alpha=.3,color='g',label='col 5')"
   ]
  },
  {
   "cell_type": "markdown",
   "metadata": {},
   "source": [
    "**Tarea:** Además del ejercicio propuesto anteriormente: Ingresar a página del DANE y descargar información de departamentos y municipios de Colombia en formato csv y json, pasar a Pandas(DataFrame) para procesar."
   ]
  },
  {
   "cell_type": "code",
   "execution_count": null,
   "metadata": {},
   "outputs": [],
   "source": []
  }
 ],
 "metadata": {
  "kernelspec": {
   "display_name": "Python 3",
   "language": "python",
   "name": "python3"
  },
  "language_info": {
   "codemirror_mode": {
    "name": "ipython",
    "version": 3
   },
   "file_extension": ".py",
   "mimetype": "text/x-python",
   "name": "python",
   "nbconvert_exporter": "python",
   "pygments_lexer": "ipython3",
   "version": "3.6.4"
  }
 },
 "nbformat": 4,
 "nbformat_minor": 2
}

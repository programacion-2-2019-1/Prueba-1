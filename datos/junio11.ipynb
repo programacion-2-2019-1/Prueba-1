{
 "cells": [
  {
   "cell_type": "markdown",
   "metadata": {},
   "source": [
    "Ejemplo para importar datos desde archivo *.csv"
   ]
  },
  {
   "cell_type": "code",
   "execution_count": 1,
   "metadata": {},
   "outputs": [],
   "source": [
    "import matplotlib\n",
    "import matplotlib.pyplot as plt\n",
    "import numpy as np\n",
    "import pandas as pd"
   ]
  },
  {
   "cell_type": "code",
   "execution_count": 38,
   "metadata": {},
   "outputs": [
    {
     "name": "stdout",
     "output_type": "stream",
     "text": [
      "Index(['REGION', 'CÓDIGO DANE DEL DEPARTAMENTO', 'DEPARTAMENTO',\n",
      "       'CÓDIGO DANE DEL MUNICIPIO', 'MUNICIPIO'],\n",
      "      dtype='object')\n",
      "Cantidad =  1123\n",
      "Región Eje Cafetero - Antioquia  =  178\n",
      "Región Centro Oriente  =  367\n",
      "Región Caribe  =  197\n",
      "Región Llano  =  78\n",
      "Región Centro Sur  =  124\n",
      "Región Pacífico  =  179\n"
     ]
    }
   ],
   "source": [
    "r = 10\n",
    "n = 20\n",
    "df= pd.read_csv(\"Departamentos_y_municipios_de_Colombia.csv\")\n",
    "print(df.columns)\n",
    "print('Cantidad = ',len(df['REGION']))\n",
    "#print(df['REGION'][0])\n",
    "\n",
    "x = df['REGION']\n",
    "regiones = x.unique()\n",
    "for i in range(len(regiones)):\n",
    "    reg = regiones[i]\n",
    "    print(reg,' = ',len(df.query('REGION==@reg')))\n",
    "\n",
    "#print(len(df.query('REGION==\"Región Eje Cafetero - Antioquia\"')))\n",
    "#print(df['REGION'].unique())\n",
    "#df.plot()\n",
    "\n",
    "#fig, ax=plt.subplots()\n",
    "index = np.arange(3)\n",
    "datosx = ['x','y','z']\n",
    "ancho = .4\n",
    "\n",
    "#rects1 = plt.bar(datosx, datos1['x'], ancho,alpha=.4,color='b',label='col x')\n",
    "#rects2 = plt.bar(datosx, datos1['col5'], ancho,alpha=.3,color='g',label='col 5')\n"
   ]
  }
 ],
 "metadata": {
  "kernelspec": {
   "display_name": "Python 3",
   "language": "python",
   "name": "python3"
  },
  "language_info": {
   "codemirror_mode": {
    "name": "ipython",
    "version": 3
   },
   "file_extension": ".py",
   "mimetype": "text/x-python",
   "name": "python",
   "nbconvert_exporter": "python",
   "pygments_lexer": "ipython3",
   "version": "3.6.4"
  }
 },
 "nbformat": 4,
 "nbformat_minor": 2
}

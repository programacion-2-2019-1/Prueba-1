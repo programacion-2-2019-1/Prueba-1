{
 "cells": [
  {
   "cell_type": "markdown",
   "metadata": {},
   "source": [
    "Generando datos.\n",
    "Generar una lista (4 columnas) de números aleatorios enteros [1-10]\n",
    "una columna adicional con los valores máximos\n",
    "una columna con el promedio de datos de las 4 columnas\n",
    "generar un archivo csv con esta información"
   ]
  },
  {
   "cell_type": "code",
   "execution_count": 21,
   "metadata": {},
   "outputs": [
    {
     "name": "stdout",
     "output_type": "stream",
     "text": [
      "Datos\n"
     ]
    }
   ],
   "source": [
    "import numpy as np\n",
    "import pandas as pd\n",
    "print('Datos')"
   ]
  },
  {
   "cell_type": "code",
   "execution_count": 23,
   "metadata": {},
   "outputs": [
    {
     "name": "stdout",
     "output_type": "stream",
     "text": [
      "[3, 2, 5]\n"
     ]
    }
   ],
   "source": [
    "r = 10\n",
    "n = 20\n",
    "datos1 = pd.Series(np.random.randint(10,size=15))\n",
    "dic1   = {'x': [3,2,5],'y':[-1,0,3],'z':3}\n",
    "datos1 = pd.DataFrame(dic1)\n",
    "datos1\n",
    "dic1\n",
    "datos1.to_csv('datos.csv')\n",
    "print(dic1[\"x\"])"
   ]
  },
  {
   "cell_type": "code",
   "execution_count": null,
   "metadata": {},
   "outputs": [],
   "source": []
  }
 ],
 "metadata": {
  "kernelspec": {
   "display_name": "Python 3",
   "language": "python",
   "name": "python3"
  },
  "language_info": {
   "codemirror_mode": {
    "name": "ipython",
    "version": 3
   },
   "file_extension": ".py",
   "mimetype": "text/x-python",
   "name": "python",
   "nbconvert_exporter": "python",
   "pygments_lexer": "ipython3",
   "version": "3.6.4"
  }
 },
 "nbformat": 4,
 "nbformat_minor": 2
}

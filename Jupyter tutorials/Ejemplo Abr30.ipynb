{
 "cells": [
  {
   "cell_type": "markdown",
   "metadata": {},
   "source": [
    "# Programación II"
   ]
  },
  {
   "cell_type": "markdown",
   "metadata": {},
   "source": [
    "Creación de funciones."
   ]
  },
  {
   "cell_type": "markdown",
   "metadata": {},
   "source": [
    "Inicialmente se crearán funciones con  el fin de simplificar el código principal y organizar su estructura para mayor claridad y entendimiento:"
   ]
  },
  {
   "cell_type": "code",
   "execution_count": 18,
   "metadata": {},
   "outputs": [],
   "source": [
    "import matplotlib\n",
    "import matplotlib.pyplot as plt\n",
    "import numpy as np"
   ]
  },
  {
   "cell_type": "markdown",
   "metadata": {},
   "source": [
    "Crear función cruces"
   ]
  },
  {
   "cell_type": "code",
   "execution_count": 19,
   "metadata": {},
   "outputs": [],
   "source": [
    "def cruces2(arreglo1,arreglo2):\n",
    "    ''' Función para calcular los valores x de cruce entre el arreglo 1 y el arreglo 2 '''\n",
    "    x = [];    y = []\n",
    "    s = arreglo1 > arreglo2\n",
    "    for i in range(len(arreglo1)-1):\n",
    "        if s[i] != s[i+1]:  # si hay cambio de valor true-false False-True\n",
    "            # calcular ec de recta -> y0 = m * x0 + b\n",
    "            m1 = arreglo1[i+1]-arreglo1[i]\n",
    "            b1 = arreglo1[i] - m1 * i\n",
    "            m2 = arreglo2[i+1]-arreglo2[i]\n",
    "            b2 = arreglo2[i] - m2 * i\n",
    "            #x0 = (promedio-b)/m\n",
    "            xc = (b2-b1)/(m1-m2)\n",
    "            yc = m1*xc-b1\n",
    "            x.append(xc)\n",
    "            y.append(yc)\n",
    "            print(xc,yc)\n",
    "    return x,y"
   ]
  },
  {
   "cell_type": "markdown",
   "metadata": {},
   "source": [
    "Generando números aleatorios."
   ]
  },
  {
   "cell_type": "code",
   "execution_count": 20,
   "metadata": {},
   "outputs": [
    {
     "name": "stdout",
     "output_type": "stream",
     "text": [
      "[-5 -2  7  1 -8 -3  0] [ 1  4 -3 -1 -2 -7 -6] [False False  True  True False  True  True]\n",
      "1.375 23.375\n",
      "3.25 -57.25\n",
      "4.6 51.0\n"
     ]
    },
    {
     "data": {
      "image/png": "[encoded data removed]",
      "text/plain": [
       "<matplotlib.figure.Figure at 0x251b751b668>"
      ]
     },
     "metadata": {},
     "output_type": "display_data"
    }
   ],
   "source": [
    "dt = 0.05\n",
    "t = np.arange(-2.0, 4.0, dt)\n",
    "limite = 8\n",
    "n = 7 # cantidad de puntos\n",
    "r1 = np.random.randint(-limite,limite+1,n)  # Números aleatorios enteros\n",
    "r2 = np.random.randint(-limite,limite+1,n)  # Números aleatorios enteros\n",
    "s = r1 > r2; print(r1,r2,s)\n",
    "fig, ax = plt.subplots()\n",
    "ax.plot(r1,'o-')  # graficar puntos\n",
    "ax.plot(r2,'o-')  # graficar puntos\n",
    "ax.set(xlabel='Eje X', ylabel='Eje Y',title='Números aleatorios')\n",
    "ax.grid(); ax.axis([0,n,-limite-1,limite+1])\n",
    "xc = []  # arreglo con los valores x de los puntos de corte con la recta de promedio\n",
    "yc = []  # arreglo con los valores y de los puntos de corte con la recta de promedio\n",
    "# encontrar los valores de cruce\n",
    "xc,yc = cruces2(r1,r2) # función que calcula los puntos de cruce entre dos arreglos\n",
    "#print(xc,yc)\n",
    "#yc = np.zeros(len(xc))+p1;\n",
    "# for i in range(len(xc)):    yc.append(p1)  # otra forma de generar xc\n",
    "# graficar los valores de cruce\n",
    "ax.plot(xc,yc,'ro')  # graficar puntos de cruce\n",
    "#ax.text(n/2,p1+.5,'Prom='+str(p1))\n",
    "fig.savefig(\"aleatorios.png\")\n",
    "plt.show()\n"
   ]
  },
  {
   "cell_type": "code",
   "execution_count": null,
   "metadata": {},
   "outputs": [],
   "source": []
  },
  {
   "cell_type": "markdown",
   "metadata": {},
   "source": [
    "**Tarea pendiente:**\n",
    "Terminar ejemplo anterior. Y además cuando el tamaño es diferente (de los arreglos)"
   ]
  },
  {
   "cell_type": "code",
   "execution_count": null,
   "metadata": {},
   "outputs": [],
   "source": []
  }
 ],
 "metadata": {
  "kernelspec": {
   "display_name": "Python 3",
   "language": "python",
   "name": "python3"
  },
  "language_info": {
   "codemirror_mode": {
    "name": "ipython",
    "version": 3
   },
   "file_extension": ".py",
   "mimetype": "text/x-python",
   "name": "python",
   "nbconvert_exporter": "python",
   "pygments_lexer": "ipython3",
   "version": "3.6.4"
  }
 },
 "nbformat": 4,
 "nbformat_minor": 2
}

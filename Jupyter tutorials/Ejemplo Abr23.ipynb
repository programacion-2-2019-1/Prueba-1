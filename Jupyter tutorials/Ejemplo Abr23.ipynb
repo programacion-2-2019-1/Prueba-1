{
 "cells": [
  {
   "cell_type": "markdown",
   "metadata": {},
   "source": [
    "# Programación II"
   ]
  },
  {
   "cell_type": "markdown",
   "metadata": {},
   "source": [
    "Creación de funciones."
   ]
  },
  {
   "cell_type": "markdown",
   "metadata": {},
   "source": [
    "Inicialmente se crearán funciones con  el fin de simplificar el código principal y organizar su estructura para mayor claridad y entendimiento:"
   ]
  },
  {
   "cell_type": "code",
   "execution_count": 1,
   "metadata": {},
   "outputs": [],
   "source": [
    "import matplotlib\n",
    "import matplotlib.pyplot as plt\n",
    "import numpy as np"
   ]
  },
  {
   "cell_type": "markdown",
   "metadata": {},
   "source": [
    "Crear función cruces"
   ]
  },
  {
   "cell_type": "code",
   "execution_count": 16,
   "metadata": {},
   "outputs": [],
   "source": [
    "def cruces(arreglo,promedio):\n",
    "    ''' Función para calcular los valores x de cruce entre el arreglo y el valor cte promedio '''\n",
    "    x = []\n",
    "    s = arreglo > promedio\n",
    "    for i in range(len(arreglo)-1):\n",
    "        if s[i] != s[i+1]:  # si hay cambio de valor true-false False-True\n",
    "            # calcular ec de recta -> y0 = m * x0 + b\n",
    "            m = arreglo[i+1]-arreglo[i]\n",
    "            b = arreglo[i] - m * i\n",
    "            x0 = (promedio-b)/m\n",
    "            x.append(x0)\n",
    "    return x"
   ]
  },
  {
   "cell_type": "markdown",
   "metadata": {},
   "source": [
    "Generando números aleatorios."
   ]
  },
  {
   "cell_type": "code",
   "execution_count": 19,
   "metadata": {},
   "outputs": [
    {
     "name": "stdout",
     "output_type": "stream",
     "text": [
      "[-5  3  5  2  1 -1  0] [False  True  True  True  True False False]\n"
     ]
    },
    {
     "data": {
      "image/png": "[encoded data removed]",
      "text/plain": [
       "<matplotlib.figure.Figure at 0x1518780c5c0>"
      ]
     },
     "metadata": {},
     "output_type": "display_data"
    }
   ],
   "source": [
    "dt = 0.05\n",
    "t = np.arange(-2.0, 4.0, dt)\n",
    "limite = 8\n",
    "n = 7 # cantidad de puntos\n",
    "r = np.random.randint(-limite,limite+1,n)  # Números aleatorios enteros\n",
    "\n",
    "fig, ax = plt.subplots()\n",
    "ax.plot(r,'o-')  # graficar puntos\n",
    "ax.set(xlabel='Eje X', ylabel='Eje Y',title='Números aleatorios')\n",
    "ax.grid(); ax.axis([0,n,-limite-1,limite+1])\n",
    "p1 = np.mean(r)\n",
    "ax.plot([0,n],[p1,p1])  # graficar recta de promedio\n",
    "xc = []  # arreglo con los valores x de los puntos de corte con la recta de promedio\n",
    "yc = []  # arreglo con los valores y de los puntos de corte con la recta de promedio\n",
    "# encontrar los valores de cruce\n",
    "xc = cruces(r,p1) # función que calcula los puntos de cruce\n",
    "s = r > p1; print(r,s)\n",
    "yc = np.zeros(len(xc))+p1;\n",
    "# for i in range(len(xc)):    yc.append(p1)  # otra forma de generar xc\n",
    "# graficar los valores de cruce\n",
    "ax.plot(xc,yc,'ro')  # graficar puntos de cruce\n",
    "\n",
    "ax.text(n/2,p1+.5,'Prom='+str(p1))\n",
    "fig.savefig(\"aleatorios.png\")\n",
    "plt.show()\n"
   ]
  },
  {
   "cell_type": "markdown",
   "metadata": {},
   "source": [
    "**Tarea pendiente:**\n",
    "Generar dos arreglos de aleatorios y mostrar cruces entre estas dos funciones. Utilizar funciones."
   ]
  },
  {
   "cell_type": "code",
   "execution_count": null,
   "metadata": {},
   "outputs": [],
   "source": []
  }
 ],
 "metadata": {
  "kernelspec": {
   "display_name": "Python 3",
   "language": "python",
   "name": "python3"
  },
  "language_info": {
   "codemirror_mode": {
    "name": "ipython",
    "version": 3
   },
   "file_extension": ".py",
   "mimetype": "text/x-python",
   "name": "python",
   "nbconvert_exporter": "python",
   "pygments_lexer": "ipython3",
   "version": "3.6.4"
  }
 },
 "nbformat": 4,
 "nbformat_minor": 2
}

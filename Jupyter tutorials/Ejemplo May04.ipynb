{
 "cells": [
  {
   "cell_type": "markdown",
   "metadata": {},
   "source": [
    "# Programación II"
   ]
  },
  {
   "cell_type": "markdown",
   "metadata": {},
   "source": [
    "Creación de funciones."
   ]
  },
  {
   "cell_type": "markdown",
   "metadata": {},
   "source": [
    "Inicialmente se crearán funciones con  el fin de simplificar el código principal y organizar su estructura para mayor claridad y entendimiento:"
   ]
  },
  {
   "cell_type": "code",
   "execution_count": 59,
   "metadata": {},
   "outputs": [],
   "source": [
    "import matplotlib\n",
    "import matplotlib.pyplot as plt\n",
    "import numpy as np"
   ]
  },
  {
   "cell_type": "markdown",
   "metadata": {},
   "source": [
    "Crear función cruces"
   ]
  },
  {
   "cell_type": "code",
   "execution_count": 60,
   "metadata": {},
   "outputs": [],
   "source": [
    "def cruces2(arreglo1,arreglo2):\n",
    "    ''' Función para calcular los valores x de cruce entre el arreglo 1 y el arreglo 2 '''\n",
    "    x = [];    y = []\n",
    "    s = arreglo1 > arreglo2\n",
    "    for i in range(len(arreglo1)-1):\n",
    "        if s[i] != s[i+1]:  # si hay cambio de valor true-false False-True\n",
    "            # calcular ec de recta -> y0 = m * x0 + b\n",
    "            m1 = arreglo1[i+1]-arreglo1[i]\n",
    "            b1 = arreglo1[i] - m1 * i\n",
    "            m2 = arreglo2[i+1]-arreglo2[i]\n",
    "            b2 = arreglo2[i] - m2 * i\n",
    "            #x0 = (promedio-b)/m\n",
    "            xc = (b2-b1)/(m1-m2)\n",
    "            yc = m1*xc-b1\n",
    "            x.append(xc)\n",
    "            y.append(yc)\n",
    "            print(arreglo1[i],arreglo2[i],'\\n',arreglo1[i+1],arreglo2[i+1],'\\n R=',xc,yc,'\\n m1=',m1,'\\n m2=',m2,)\n",
    "    return x,y"
   ]
  },
  {
   "cell_type": "markdown",
   "metadata": {},
   "source": [
    "Generando números aleatorios."
   ]
  },
  {
   "cell_type": "code",
   "execution_count": 61,
   "metadata": {},
   "outputs": [
    {
     "name": "stdout",
     "output_type": "stream",
     "text": [
      "[ 1  1 -2 -1 -1 -2  2 -2] [3.52 4.02 4.52 5.02 5.52 6.02 6.52 7.02]\n",
      "[-2  3] [2.3078593 2.8078593]\n"
     ]
    },
    {
     "data": {
      "image/png": "[encoded data removed]",
      "text/plain": [
       "<matplotlib.figure.Figure at 0x19878ec3668>"
      ]
     },
     "metadata": {},
     "output_type": "display_data"
    }
   ],
   "source": [
    "dx = 0.5\n",
    "\n",
    "limite = 3\n",
    "n = np.random.randint(1,10) # cantidad de puntos de r\n",
    "m = np.random.randint(1,10) # cantidad de puntos de s\n",
    "\n",
    "r = np.random.randint(-limite,limite+1,n)  # Números aleatorios enteros\n",
    "s = np.random.randint(-limite,limite+1,m)\n",
    "tmp_r = np.random.random()*limite\n",
    "tmp_r = -2\n",
    "tmp_s = np.random.random()*limite\n",
    "tmp_r = 3.52\n",
    "xr= np.arange(len(r))*dx + tmp_r\n",
    "xs= np.arange(len(s))*dx + tmp_s\n",
    "print(r,xr)\n",
    "print(s,xs)\n",
    "\n",
    "fig, ax = plt.subplots()\n",
    "ax.plot(xr,r,'o-')  # graficar puntos\n",
    "ax.plot(xs,s,'o--')\n",
    "plt.show()"
   ]
  },
  {
   "cell_type": "code",
   "execution_count": null,
   "metadata": {},
   "outputs": [],
   "source": []
  },
  {
   "cell_type": "markdown",
   "metadata": {},
   "source": [
    "\n",
    "**Tarea pendiente:**\n",
    "Terminar ejemplo de cruces del caso presente."
   ]
  }
 ],
 "metadata": {
  "kernelspec": {
   "display_name": "Python 3",
   "language": "python",
   "name": "python3"
  },
  "language_info": {
   "codemirror_mode": {
    "name": "ipython",
    "version": 3
   },
   "file_extension": ".py",
   "mimetype": "text/x-python",
   "name": "python",
   "nbconvert_exporter": "python",
   "pygments_lexer": "ipython3",
   "version": "3.6.4"
  }
 },
 "nbformat": 4,
 "nbformat_minor": 2
}

{
 "cells": [
  {
   "cell_type": "markdown",
   "metadata": {},
   "source": [
    "# Programación II"
   ]
  },
  {
   "cell_type": "markdown",
   "metadata": {},
   "source": [
    "Generación de arreglos y edición."
   ]
  },
  {
   "cell_type": "markdown",
   "metadata": {},
   "source": [
    "En este ambiente, se puede realizar una combinación elegante entre imágenes, texto, LaTeX, código y resultados. Además se pueden importar en muchos formatos, ya sea pdf, html, o incluso el formato propio del entorno: ipynb. Veamos un ejemplo:"
   ]
  },
  {
   "cell_type": "code",
   "execution_count": 15,
   "metadata": {},
   "outputs": [],
   "source": [
    "import matplotlib\n",
    "import matplotlib.pyplot as plt\n",
    "import numpy as np"
   ]
  },
  {
   "cell_type": "markdown",
   "metadata": {},
   "source": [
    "Generando números aleatorios."
   ]
  },
  {
   "cell_type": "code",
   "execution_count": 30,
   "metadata": {},
   "outputs": [
    {
     "name": "stdout",
     "output_type": "stream",
     "text": [
      "[[0.93854077 0.96002114]\n",
      " [0.0358828  0.78005392]\n",
      " [0.99823069 0.52705133]\n",
      " [0.41687805 0.30512687]\n",
      " [0.45644798 0.43243268]\n",
      " [0.2728645  0.71055676]\n",
      " [0.38076024 0.55481962]\n",
      " [0.20204267 0.56272563]\n",
      " [0.7152981  0.50439028]\n",
      " [0.95068114 0.1820069 ]]\n"
     ]
    },
    {
     "data": {
      "image/png": "[encoded data removed]",
      "text/plain": [
       "<matplotlib.figure.Figure at 0x1bb6762ea90>"
      ]
     },
     "metadata": {},
     "output_type": "display_data"
    }
   ],
   "source": [
    "dt = 0.05\n",
    "t = np.arange(-2.0, 4.0, dt)\n",
    "# r = np.random.rand(10)  # cantidad de números aleatorios\n",
    "r = np.random.rand(10,2)  # cantidad de números aleatorios\n",
    "print(r)\n",
    "\n",
    "fig, ax = plt.subplots()\n",
    "ax.plot(r,'ro')\n",
    "ax.set(xlabel='Eje X', ylabel='Eje Y',title='Números aleatorios')\n",
    "ax.grid()\n",
    "fig.savefig(\"aleatorios.png\")\n",
    "plt.show()\n"
   ]
  },
  {
   "cell_type": "code",
   "execution_count": null,
   "metadata": {},
   "outputs": [],
   "source": []
  }
 ],
 "metadata": {
  "kernelspec": {
   "display_name": "Python 3",
   "language": "python",
   "name": "python3"
  },
  "language_info": {
   "codemirror_mode": {
    "name": "ipython",
    "version": 3
   },
   "file_extension": ".py",
   "mimetype": "text/x-python",
   "name": "python",
   "nbconvert_exporter": "python",
   "pygments_lexer": "ipython3",
   "version": "3.6.4"
  }
 },
 "nbformat": 4,
 "nbformat_minor": 2
}
